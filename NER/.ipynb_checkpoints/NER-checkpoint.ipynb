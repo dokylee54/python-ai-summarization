{
 "cells": [
  {
   "cell_type": "markdown",
   "metadata": {},
   "source": [
    "# NER 객체명 인식기"
   ]
  },
  {
   "cell_type": "code",
   "execution_count": 3,
   "metadata": {},
   "outputs": [],
   "source": [
    "import pandas as pd"
   ]
  },
  {
   "cell_type": "markdown",
   "metadata": {},
   "source": [
    "### 기사 data 읽어오기"
   ]
  },
  {
   "cell_type": "code",
   "execution_count": 24,
   "metadata": {},
   "outputs": [
    {
     "name": "stdout",
     "output_type": "stream",
     "text": [
      "../kbo_data/results_20200427-20200605.csv의 기사 개수 = 20980\n",
      "../kbo_data/results_20200225-20200426.csv의 기사 개수 = 14774\n",
      "../kbo_data/results_20190911-20191020.csv의 기사 개수 = 14168\n",
      "../kbo_data/results_20191021-20191129.csv의 기사 개수 = 14286\n",
      "../kbo_data/results_20190802-20190910.csv의 기사 개수 = 14512\n",
      "../kbo_data/results_20200606-20200715.csv의 기사 개수 = 20142\n",
      "../kbo_data/results_20191130-20200224.csv의 기사 개수 = 14344\n",
      "* 총 기사 개수 = 113206\n"
     ]
    }
   ],
   "source": [
    "import glob\n",
    "\n",
    "total_news = 0\n",
    "for filename in glob.glob('../kbo_data/*.csv'):\n",
    "    df = pd.read_csv(filename, index_col=1, engine='python')\n",
    "    len_df = len(df)\n",
    "    total_news += len_df\n",
    "    print(f'{filename}의 기사 개수 = {len_df}')\n",
    "    \n",
    "print(f'* 총 기사 개수 = {total_news}')"
   ]
  },
  {
   "cell_type": "markdown",
   "metadata": {},
   "source": [
    "### ner data 읽어오기"
   ]
  },
  {
   "cell_type": "code",
   "execution_count": 40,
   "metadata": {
    "scrolled": true
   },
   "outputs": [
    {
     "name": "stdout",
     "output_type": "stream",
     "text": [
      "; 나도 때늦은 홍길동이보다는 이 사회의 기본 구조를 변혁시키는 쪽이 더 많은 사람을 보다 효과적으로 구할 수 있다는 것쯤은 알고 있오.\n",
      "\n",
      "$나도 때늦은 <홍길동:PS>이보다는 이 사회의 기본 구조를 변혁시키는 쪽이 더 많은 사람을 보다 효과적으로 구할 수 있다는 것쯤은 알고 있오.\n",
      "\n",
      "1\t나\tNP\tO\n",
      "\n",
      "1\t도\tJX\tO\n",
      "\n",
      "2\t때늦\tVA\tO\n",
      "\n",
      "2\t은\tETM\tO\n",
      "\n",
      "3\t홍길동\tNNP\tB_PS\n",
      "\n",
      "3\t이\tXSN\tO\n",
      "\n",
      "3\t보다\tJKB\tO\n",
      "\n",
      "3\t는\tJX\tO\n",
      "\n",
      "4\t이\tMM\tO\n",
      "\n",
      "5\t사회\tNNG\tO\n",
      "\n",
      "5\t의\tJKG\tO\n",
      "\n",
      "6\t기본\tNNG\tO\n",
      "\n",
      "7\t구조\tNNG\tO\n",
      "\n",
      "7\t를\tJKO\tO\n",
      "\n",
      "8\t변혁\tNNG\tO\n",
      "\n",
      "8\t시키\tXSV\tO\n",
      "\n",
      "8\t는\tETM\tO\n",
      "\n",
      "9\t쪽\tNNB\tO\n",
      "\n",
      "9\t이\tJKS\tO\n",
      "\n",
      "10\t더\tMAG\tO\n",
      "\n",
      "11\t많\tVA\tO\n",
      "\n",
      "11\t은\tETM\tO\n",
      "\n",
      "12\t사람\tNNG\tO\n",
      "\n",
      "12\t을\tJKO\tO\n",
      "\n",
      "13\t보다\tMAG\tO\n",
      "\n",
      "14\t효과\tNNG\tO\n",
      "\n",
      "14\t적\tXSN\tO\n",
      "\n",
      "14\t으로\tJKB\tO\n",
      "\n",
      "15\t구하\tVV\tO\n",
      "\n",
      "15\tㄹ\tETM\tO\n",
      "\n",
      "16\t수\tNNB\tO\n",
      "\n",
      "17\t있\tVV\tO\n",
      "\n",
      "17\t다는\tETM\tO\n",
      "\n",
      "18\t것\tNNB\tO\n",
      "\n",
      "18\t쯤\tXSN\tO\n",
      "\n",
      "18\t은\tJX\tO\n",
      "\n",
      "19\t알\tVV\tO\n",
      "\n",
      "19\t고\tEC\tO\n",
      "\n",
      "20\t있\tVV\tO\n",
      "\n",
      "20\t오\tEF\tO\n",
      "\n",
      "20\t.\tSF\tO\n",
      "\n",
      "END\n"
     ]
    }
   ],
   "source": [
    "with open('data/ner_train.txt') as f:\n",
    "    \n",
    "    while True:\n",
    "        line = f.readline()\n",
    "        if line == '\\n': break\n",
    "        print(line)\n",
    "        \n",
    "    print(\"END\")"
   ]
  },
  {
   "cell_type": "code",
   "execution_count": null,
   "metadata": {},
   "outputs": [],
   "source": []
  }
 ],
 "metadata": {
  "kernelspec": {
   "display_name": "Python 3",
   "language": "python",
   "name": "python3"
  },
  "language_info": {
   "codemirror_mode": {
    "name": "ipython",
    "version": 3
   },
   "file_extension": ".py",
   "mimetype": "text/x-python",
   "name": "python",
   "nbconvert_exporter": "python",
   "pygments_lexer": "ipython3",
   "version": "3.6.10"
  }
 },
 "nbformat": 4,
 "nbformat_minor": 4
}
